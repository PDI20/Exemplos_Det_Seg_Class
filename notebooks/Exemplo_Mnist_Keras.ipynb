{
  "cells": [
    {
      "cell_type": "markdown",
      "metadata": {
        "id": "5dT4jb-LxJuh"
      },
      "source": [
        "# Exemplo Mnist Convnet utilizando Keras\n",
        "\n",
        "O dataset Mnist é constituído por imagens dos 10 dígitos, escritos à mão. Cada imagem tem uma dimensão de 28x28 píxeis e os dígitos encontram-se a branco e o fundo a preto.\n",
        "\n",
        "Treino: 60000 imagens\n",
        "Test: 10000 imagens"
      ]
    },
    {
      "cell_type": "markdown",
      "metadata": {
        "id": "NikSGydTxJui"
      },
      "source": [
        "## Bibliotecas"
      ]
    },
    {
      "cell_type": "code",
      "execution_count": null,
      "metadata": {
        "id": "BXm-ZoF0xJuj"
      },
      "outputs": [],
      "source": [
        "import numpy as np\n",
        "from tensorflow import keras\n",
        "from tensorflow.keras import layers\n",
        "import matplotlib.pyplot as plt"
      ]
    },
    {
      "cell_type": "markdown",
      "metadata": {
        "id": "eTGaRKtfxJuj"
      },
      "source": [
        "## Preparação do dataset"
      ]
    },
    {
      "cell_type": "code",
      "execution_count": null,
      "metadata": {
        "id": "-JSRODenxJuk"
      },
      "outputs": [],
      "source": [
        "num_classes = 10 # número de classes, uma para cada dígito\n",
        "input_shape = (28, 28, 1) # dimensões do input\n",
        "\n",
        "# carregar os dados\n",
        "(x_train, y_train), (x_test, y_test) = keras.datasets.mnist.load_data()\n",
        "\n",
        "\n",
        "# Normalização dos dados\n",
        "\n",
        "# converter o valor de cada píxel de [0, 255] para [0, 1]\n",
        "x_train = x_train.astype(\"float32\") / 255\n",
        "x_test = x_test.astype(\"float32\") / 255\n",
        "\n",
        "# garantir que as imagens têm as dimensões corretas\n",
        "x_train = np.expand_dims(x_train, -1)\n",
        "x_test = np.expand_dims(x_test, -1)\n",
        "\n",
        "print(\"x_train shape:\", x_train.shape)\n",
        "print(x_train.shape[0], \"train samples\")\n",
        "print(x_test.shape[0], \"test samples\")\n",
        "\n",
        "\n",
        "# converter dados de vectors para matrizes\n",
        "y_train = keras.utils.to_categorical(y_train, num_classes)\n",
        "y_test = keras.utils.to_categorical(y_test, num_classes)"
      ]
    },
    {
      "cell_type": "markdown",
      "source": [
        "# Visualização de dados de treino"
      ],
      "metadata": {
        "id": "F2PkRHQi0q1a"
      }
    },
    {
      "cell_type": "code",
      "source": [
        "plt.figure(figsize=(10,10))\n",
        "\n",
        "for i in range(25):\n",
        "\n",
        "    plt.subplot(5, 5, i + 1)\n",
        "    plt.xticks([])\n",
        "    plt.yticks([])\n",
        "    plt.grid(False)\n",
        "    plt.imshow(x_train[i], \"gray\")\n",
        "\n",
        "plt.show()"
      ],
      "metadata": {
        "id": "M4HT96H6zHdF"
      },
      "execution_count": null,
      "outputs": []
    },
    {
      "cell_type": "markdown",
      "metadata": {
        "id": "RhR63eWmxJuk"
      },
      "source": [
        "## Construir modelo"
      ]
    },
    {
      "cell_type": "code",
      "execution_count": null,
      "metadata": {
        "id": "bZdioNyAxJuk"
      },
      "outputs": [],
      "source": [
        "# simples convnet\n",
        "model = keras.Sequential(\n",
        "    [\n",
        "        keras.Input(shape=input_shape),\n",
        "        layers.Conv2D(32, kernel_size=(3, 3), activation=\"relu\"),\n",
        "        layers.MaxPooling2D(pool_size=(2, 2)),\n",
        "        layers.Conv2D(64, kernel_size=(3, 3), activation=\"relu\"),\n",
        "        layers.MaxPooling2D(pool_size=(2, 2)),\n",
        "        layers.Flatten(),\n",
        "        layers.Dropout(0.5),\n",
        "        layers.Dense(num_classes, activation=\"softmax\"),\n",
        "    ]\n",
        ")\n",
        "\n",
        "model.summary()"
      ]
    },
    {
      "cell_type": "markdown",
      "metadata": {
        "id": "7Nza6HnZxJuk"
      },
      "source": [
        "## Treinar o modelo"
      ]
    },
    {
      "cell_type": "code",
      "execution_count": null,
      "metadata": {
        "id": "lBxqQsRdxJul"
      },
      "outputs": [],
      "source": [
        "batch_size = 128\n",
        "epochs = 15\n",
        "\n",
        "model.compile(loss=\"categorical_crossentropy\", optimizer = \"adam\", metrics=[\"accuracy\"]) # compilar o modelo\n",
        "\n",
        "model.fit(x_train, y_train, batch_size = batch_size, epochs = epochs, validation_split = 0.1) # treino do modelo"
      ]
    },
    {
      "cell_type": "markdown",
      "metadata": {
        "id": "ThLowPbSxJul"
      },
      "source": [
        "# Avaliar modelo"
      ]
    },
    {
      "cell_type": "code",
      "execution_count": null,
      "metadata": {
        "id": "72syV21VxJul"
      },
      "outputs": [],
      "source": [
        "score = model.evaluate(x_test, y_test, verbose=0) # avaliar o modelo com dados de teste\n",
        "print(\"Test loss:\", score[0])\n",
        "print(\"Test accuracy:\", score[1])"
      ]
    },
    {
      "cell_type": "markdown",
      "source": [
        "# Previsões\n",
        "\n",
        "Efetuadas com dados nunca antes vistos pelo modelo."
      ],
      "metadata": {
        "id": "MuYYo02l1T5k"
      }
    },
    {
      "cell_type": "code",
      "source": [
        "predictions = model.predict(x_test) # inferir"
      ],
      "metadata": {
        "id": "dTn5bES_1RR7"
      },
      "execution_count": null,
      "outputs": []
    },
    {
      "cell_type": "code",
      "source": [
        "# previsão do primeiro elemento de teste\n",
        "\n",
        "print(\"Previsão: \" + str(np.argmax(predictions[0])) + \"\\n\")\n",
        "print(\"Real: \" + str(y_test[0])) # label"
      ],
      "metadata": {
        "id": "vzStB7Bx1nA8"
      },
      "execution_count": null,
      "outputs": []
    },
    {
      "cell_type": "code",
      "source": [
        "# gráficos\n",
        "\n",
        "def plot_image(i, predictions_array, true_label, img):\n",
        "  true_label, img = true_label[i], img[i]\n",
        "  plt.grid(False)\n",
        "  plt.xticks([])\n",
        "  plt.yticks([])\n",
        "\n",
        "  plt.imshow(img, \"gray\")\n",
        "\n",
        "  predicted_label = np.argmax(predictions_array)\n",
        "\n",
        "def plot_value_array(i, predictions_array, true_label):\n",
        "\n",
        "  true_label = true_label[i]\n",
        "  plt.grid(False)\n",
        "  plt.xticks(range(10))\n",
        "  plt.yticks([])\n",
        "  thisplot = plt.bar(range(10), predictions_array, color=\"#777777\")\n",
        "  plt.ylim([0, 1])\n",
        "  predicted_label = np.argmax(predictions_array)"
      ],
      "metadata": {
        "id": "5CjczxQ61rJr"
      },
      "execution_count": null,
      "outputs": []
    },
    {
      "cell_type": "code",
      "source": [
        "i = 0\n",
        "plt.figure(figsize=(6, 3))\n",
        "plt.subplot(1, 2, 1)\n",
        "plot_image(i, predictions[i], y_test, x_test)\n",
        "plt.subplot(1, 2, 2)\n",
        "plot_value_array(i, predictions[i],  y_test)\n",
        "plt.show()"
      ],
      "metadata": {
        "id": "5P5Ty0qs2WpT"
      },
      "execution_count": null,
      "outputs": []
    }
  ],
  "metadata": {
    "accelerator": "GPU",
    "colab": {
      "provenance": []
    },
    "kernelspec": {
      "display_name": "Python 3",
      "language": "python",
      "name": "python3"
    },
    "language_info": {
      "codemirror_mode": {
        "name": "ipython",
        "version": 3
      },
      "file_extension": ".py",
      "mimetype": "text/x-python",
      "name": "python",
      "nbconvert_exporter": "python",
      "pygments_lexer": "ipython3",
      "version": "3.7.0"
    }
  },
  "nbformat": 4,
  "nbformat_minor": 0
}
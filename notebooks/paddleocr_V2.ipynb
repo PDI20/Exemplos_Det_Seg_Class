{
  "nbformat": 4,
  "nbformat_minor": 0,
  "metadata": {
    "colab": {
      "provenance": [],
      "gpuType": "T4"
    },
    "kernelspec": {
      "name": "python3",
      "display_name": "Python 3"
    },
    "language_info": {
      "name": "python"
    },
    "accelerator": "GPU"
  },
  "cells": [
    {
      "cell_type": "markdown",
      "source": [
        "# [PaddleOCR](https://github.com/PaddlePaddle/PaddleOCR/blob/release/2.7/README_en.md)\n",
        "\n",
        "Biblioteca que deteta texto, em imagens, e o classifica.\n"
      ],
      "metadata": {
        "id": "KIfh7-UxiwEi"
      }
    },
    {
      "cell_type": "markdown",
      "source": [
        "# **Instalar PaddleOCR**\n",
        "\n"
      ],
      "metadata": {
        "id": "_xNSc2kWjtW7"
      }
    },
    {
      "cell_type": "code",
      "source": [
        "# Instalar PaddleOCR\n",
        "!pip install paddlepaddle-gpu\n",
        "!pip install paddleocr\n",
        "!wget http://archive.ubuntu.com/ubuntu/pool/main/o/openssl/libssl1.1_1.1.0g-2ubuntu4_amd64.deb\n",
        "!sudo dpkg -i libssl1.1_1.1.0g-2ubuntu4_amd64.deb\n",
        "!git clone https://github.com/PaddlePaddle/PaddleOCR"
      ],
      "metadata": {
        "id": "r2NcvcufoiFT"
      },
      "execution_count": null,
      "outputs": []
    },
    {
      "cell_type": "markdown",
      "source": [
        "# **Bibliotecas**"
      ],
      "metadata": {
        "id": "Po5cW62os8_h"
      }
    },
    {
      "cell_type": "code",
      "source": [
        "from paddleocr import PaddleOCR, draw_ocr # paddleOCR\n",
        "from google.colab.patches import cv2_imshow # visualização de imagens\n",
        "from PIL import Image # para ler e guardar as imagens"
      ],
      "metadata": {
        "id": "pdxHX9D1mUAS"
      },
      "execution_count": null,
      "outputs": []
    },
    {
      "cell_type": "markdown",
      "source": [
        "# **Carregar modelo OCR**"
      ],
      "metadata": {
        "id": "NZFt6ySukNPC"
      }
    },
    {
      "cell_type": "code",
      "source": [],
      "metadata": {
        "id": "G6bsJVewkPvC"
      },
      "execution_count": null,
      "outputs": []
    },
    {
      "cell_type": "markdown",
      "source": [
        "# **Aplicar o modelo sobre uma imagem**"
      ],
      "metadata": {
        "id": "lkGa_FfmmsNR"
      }
    },
    {
      "cell_type": "code",
      "source": [],
      "metadata": {
        "id": "wyYtPxeasgoi"
      },
      "execution_count": null,
      "outputs": []
    },
    {
      "cell_type": "markdown",
      "source": [
        "# **Obter os resultados do array**"
      ],
      "metadata": {
        "id": "SaIOF_fcelmv"
      }
    },
    {
      "cell_type": "code",
      "source": [],
      "metadata": {
        "id": "9mOKRCvdepNq"
      },
      "execution_count": null,
      "outputs": []
    },
    {
      "cell_type": "markdown",
      "source": [
        "# **Guardar resultados**\n",
        "\n",
        "Exemplo de como guardar texto num ficheiro."
      ],
      "metadata": {
        "id": "c7cELE3OfNKw"
      }
    },
    {
      "cell_type": "code",
      "source": [
        "caminho_ficheiro_resultados = \"/content/resultados.txt\" # caminho onde será guardado o ficheiro\n",
        "\n",
        "resultados_f = open(caminho_ficheiro_resultados, \"a\") # gera o ficheiro caso não exista\n",
        "\n",
        "# adicionar resultado ao ficheiro dos resultados\n",
        "resultados_f.write(\"22XV69\" + '\\n') # \\n adiciona um parágrafo"
      ],
      "metadata": {
        "id": "qDGEhg_0fQAP"
      },
      "execution_count": null,
      "outputs": []
    },
    {
      "cell_type": "markdown",
      "source": [
        "# **Visualização dos resultados**\n",
        "\n",
        "APENAS DEMONSTRATIVO"
      ],
      "metadata": {
        "id": "4bdRm4IGe7Af"
      }
    },
    {
      "cell_type": "code",
      "source": [
        "# img -> imagem original\n",
        "im_show = draw_ocr(img, boxes, txts, scores, font_path='/content/PaddleOCR/StyleText/fonts/en_standard.ttf') # desenhar a bounding box na imagem original e adicionar o resultado e a sua confiança\n",
        "\n",
        "im_show = Image.fromarray(im_show) # converter um array para uma imagem\n",
        "\n",
        "im_show # visualização do resultado"
      ],
      "metadata": {
        "id": "8JxD3D5FnEu5"
      },
      "execution_count": null,
      "outputs": []
    }
  ]
}
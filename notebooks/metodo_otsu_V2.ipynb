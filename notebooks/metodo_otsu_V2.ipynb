{
  "nbformat": 4,
  "nbformat_minor": 0,
  "metadata": {
    "colab": {
      "provenance": []
    },
    "kernelspec": {
      "name": "python3",
      "display_name": "Python 3"
    },
    "language_info": {
      "name": "python"
    }
  },
  "cells": [
    {
      "cell_type": "markdown",
      "source": [
        "# **Aplicação do método de Otsu**"
      ],
      "metadata": {
        "id": "37s82ezjzyoc"
      }
    },
    {
      "cell_type": "markdown",
      "source": [
        "# **Elementos estruturantes**\n",
        "\n",
        "- Elemento estrututante em forma de Cruz - cv2.getStructuringElement(cv2.MORPH_CROSS, (4, 4))\n",
        "\n",
        "- Elemento estrututante em forma de Elipse - cv2.getStructuringElement(cv2.MORPH_ELLIPSE, (4, 4))\n",
        "\n",
        "- Elemento estrututante em forma de Rectângulo - cv2.getStructuringElement(cv2.MORPH_RECT, (4, 4))\n",
        "\n",
        "- kernel = np.ones((4, 4), np.uint8)"
      ],
      "metadata": {
        "id": "DSI3szSz0haf"
      }
    },
    {
      "cell_type": "markdown",
      "source": [
        "# [**Operações morfológicas**](https://docs.opencv.org/4.x/d9/d61/tutorial_py_morphological_ops.html)\n",
        "\n",
        "- Operação morfológica de Erosão - cv2.erode(imagem, elemento_estruturante, iterations = 1)\n",
        "\n",
        "- Operação morfológica de Dilatação - cv2.dilate(imagem, elemento_estruturante, iterations = 1)\n",
        "\n",
        "- Operação morfológica de Abertura - cv2.morphologyEX(imagem, cv2.MORPH_OPEN, elemento_estruturante)\n",
        "\n",
        "- Operação morfológica de Fecho - cv2.morphologyEX(imagem, cv2.MORPH_CLOSE, elemento_estruturante)\n",
        "\n",
        "- Operação morfológica de Gradiente Morfológico - cv2.morphologyEX(imagem, cv2.MORPH_GRADIENT, elemento_estruturante)\n",
        "\n",
        "- Operação morfológica de Top Hat - cv2.morphologyEX(imagem, cv2.MORPH_TOPHAT, elemento_estruturante)\n",
        "\n",
        "- Operação morfológica de Black Hat - cv2.morphologyEX(imagem, cv2.MORPH_BLACKHAT, elemento_estruturante)\n",
        "\n"
      ],
      "metadata": {
        "id": "Nn7iGS3010En"
      }
    },
    {
      "cell_type": "markdown",
      "source": [
        "# **[Filtros](https://docs.opencv.org/3.4/d4/d13/tutorial_py_filtering.html)**\n",
        "\n",
        "- Média  -> cv2.blur(imagem, (5, 5))\n",
        "\n",
        "- Gaussiano -> cv2.GaussianBlur(imagem, (5, 5), 0)\n",
        "\n",
        "- Mediano -> cv2.medianBlur(imagem, 5)\n",
        "\n",
        "- Bilateral -> cv2.bilateralFilter(imagem, 9, 75, 75) -> 9 (tamanho do filtro) e os valores 75 definem o impacto do filtro na imagem"
      ],
      "metadata": {
        "id": "WoBvrmeeTybK"
      }
    },
    {
      "cell_type": "markdown",
      "source": [
        "# **[Método de Otsu](https://docs.opencv.org/3.4/d7/d4d/tutorial_py_thresholding.html)**\n",
        "\n",
        "- threshold = cv2.threshold(imagem, 0, 255, cv2.THRESH_BINARY + cv2.THRESH_OTSU)[1]"
      ],
      "metadata": {
        "id": "kFfllo1bRjmb"
      }
    },
    {
      "cell_type": "markdown",
      "source": [
        "## **Bibliotecas**"
      ],
      "metadata": {
        "id": "Qs62wYUoSIya"
      }
    },
    {
      "cell_type": "code",
      "source": [
        "import cv2 # OpenCV\n",
        "import numpy as np # biblioteca com funções matemáticas\n",
        "from imutils import contours # para ordenar contornos\n",
        "from google.colab.patches import cv2_imshow # visualização de imagens\n",
        "import os"
      ],
      "metadata": {
        "id": "T34C5UHVSL1y"
      },
      "execution_count": null,
      "outputs": []
    },
    {
      "cell_type": "markdown",
      "source": [
        "## **Ler imagem e convertê-la para preto e branco**"
      ],
      "metadata": {
        "id": "ah3XYeTfSyqj"
      }
    },
    {
      "cell_type": "code",
      "source": [],
      "metadata": {
        "id": "Jk-xCXBrR3JJ"
      },
      "execution_count": null,
      "outputs": []
    },
    {
      "cell_type": "markdown",
      "source": [
        "## **Aplicar método de Otsu**\n",
        "\n",
        "**Nota:** As operações morfológicas podem ser aplicadas antes ou depois de aplicar o método. Neste exemplo será aplicado depois de aplicado o método."
      ],
      "metadata": {
        "id": "N7l6wodMTZuK"
      }
    },
    {
      "cell_type": "code",
      "source": [],
      "metadata": {
        "id": "JgTe5KTOV1Wb"
      },
      "execution_count": null,
      "outputs": []
    },
    {
      "cell_type": "markdown",
      "source": [
        "## **Verificar se a imagem tem mais pixéis pretos do que brancos**\n",
        "\n",
        "**Nota:** O cálculo dos contornos não funciona se o fundo da imagem for branco.\n"
      ],
      "metadata": {
        "id": "BiZTnMKa2ZSb"
      }
    },
    {
      "cell_type": "code",
      "source": [],
      "metadata": {
        "id": "pMVN-k6eTV4y"
      },
      "execution_count": null,
      "outputs": []
    },
    {
      "cell_type": "markdown",
      "source": [
        "## **Aplicação de uma operação morfológica**\n"
      ],
      "metadata": {
        "id": "k-o035cKXNRr"
      }
    },
    {
      "cell_type": "code",
      "source": [],
      "metadata": {
        "id": "jUjhhb_tXVmb"
      },
      "execution_count": null,
      "outputs": []
    },
    {
      "cell_type": "markdown",
      "source": [
        "# **Construção de uma máscara com os caracteres**"
      ],
      "metadata": {
        "id": "AHe1DtbY2hge"
      }
    },
    {
      "cell_type": "markdown",
      "source": [
        "## **Inicializar a máscara**"
      ],
      "metadata": {
        "id": "Ny6g2W6z3De0"
      }
    },
    {
      "cell_type": "code",
      "source": [],
      "metadata": {
        "id": "7eUPI_u1X7nb"
      },
      "execution_count": null,
      "outputs": []
    },
    {
      "cell_type": "markdown",
      "source": [
        "# **Análise de componentes**\n",
        "\n",
        "Atribuir uma label a cada componente encontrado."
      ],
      "metadata": {
        "id": "Z0tWtoZB3GQB"
      }
    },
    {
      "cell_type": "code",
      "source": [],
      "metadata": {
        "id": "wozWsNjccTRU"
      },
      "execution_count": null,
      "outputs": []
    },
    {
      "cell_type": "markdown",
      "source": [
        "### **Obter os contornos presentes na máscara**"
      ],
      "metadata": {
        "id": "Ml-8OX8s3oFd"
      }
    },
    {
      "cell_type": "code",
      "source": [],
      "metadata": {
        "id": "Ui88A27sdlb1"
      },
      "execution_count": null,
      "outputs": []
    },
    {
      "cell_type": "markdown",
      "source": [
        "### **Ordenar os contornos da esquerda para a direita**"
      ],
      "metadata": {
        "id": "si4ERjMX4pKd"
      }
    },
    {
      "cell_type": "code",
      "source": [],
      "metadata": {
        "id": "gzRBsZAreBU-"
      },
      "execution_count": null,
      "outputs": []
    },
    {
      "cell_type": "markdown",
      "source": [
        "# **Extrair os caracteres**"
      ],
      "metadata": {
        "id": "kejw5dDW55CX"
      }
    },
    {
      "cell_type": "code",
      "source": [],
      "metadata": {
        "id": "EoovYwkDeXUF"
      },
      "execution_count": null,
      "outputs": []
    },
    {
      "cell_type": "markdown",
      "source": [
        "# **Classificação dos caracteres**"
      ],
      "metadata": {
        "id": "bBExKLlX58PY"
      }
    },
    {
      "cell_type": "markdown",
      "source": [
        "## **Bibliotecas**\n"
      ],
      "metadata": {
        "id": "f_F6bZ-X6Jsl"
      }
    },
    {
      "cell_type": "code",
      "source": [
        "from tensorflow import keras\n",
        "from tensorflow.keras import layers\n",
        "import tensorflow as tf"
      ],
      "metadata": {
        "id": "VzGcG3folhUO"
      },
      "execution_count": null,
      "outputs": []
    },
    {
      "cell_type": "markdown",
      "source": [
        "## **Carregar o modelo de classificação**"
      ],
      "metadata": {
        "id": "fvLcHcI4mdGl"
      }
    },
    {
      "cell_type": "code",
      "source": [
        "input_shape = (20, 20, 3) # input que o modelo aceita\n",
        "num_classes = 34 # número de classes\n",
        "classes = ['0', '1', '2', '3', '4', '5', '6', '7', '8', '9', 'A', 'B', 'C', 'D', 'E',\n",
        "              'F', 'G', 'H', 'J', 'K', 'L', 'M', 'N', 'P', 'Q', 'R', 'S', 'T',\n",
        "              'U', 'V', 'W', 'X', 'Y', 'Z'] # nomes das classes -> não existe classe para a letra \"O\" e a letra \"I\"\n",
        "\n",
        "modelo = keras.Sequential(\n",
        "    [\n",
        "        layers.Dense(32, input_shape =input_shape),\n",
        "        layers.Dense(64, activation = 'relu'),\n",
        "        layers.Flatten(),\n",
        "        layers.Dense(num_classes, activation = 'softmax'),\n",
        "    ]\n",
        ")"
      ],
      "metadata": {
        "id": "Wa0cJsHGl51n"
      },
      "execution_count": null,
      "outputs": []
    },
    {
      "cell_type": "code",
      "source": [
        "modelo.summary()"
      ],
      "metadata": {
        "id": "aQPt86g3pNmm"
      },
      "execution_count": null,
      "outputs": []
    },
    {
      "cell_type": "markdown",
      "source": [
        "## **Carregar pesos pré-treinados**"
      ],
      "metadata": {
        "id": "Q46agI8g6RYe"
      }
    },
    {
      "cell_type": "code",
      "source": [
        "caminho_pesos = \"/content/best_weights.h5\"\n",
        "modelo.load_weights(caminho_pesos)"
      ],
      "metadata": {
        "id": "9W1vHlbMmsQm"
      },
      "execution_count": null,
      "outputs": []
    },
    {
      "cell_type": "markdown",
      "source": [
        "## **Classificar os caracteres**"
      ],
      "metadata": {
        "id": "5L62YxDY6VXP"
      }
    },
    {
      "cell_type": "code",
      "source": [
        "imagem = cv2.imread('/content/crop0.png')\n",
        "\n",
        "cv2_imshow(imagem)\n",
        "\n",
        "imagem = np.expand_dims(imagem, axis = 0) # para garantir que as dimensões são as corretas\n",
        "\n",
        "previsao = modelo.predict(imagem) # classificação por parte do modelo\n",
        "\n",
        "classe = classes[np.argmax(previsao)] # classe prevista\n",
        "\n",
        "print(\"Classe previsa:\", classe)"
      ],
      "metadata": {
        "id": "1vRhhgdXnFTu"
      },
      "execution_count": null,
      "outputs": []
    },
    {
      "cell_type": "markdown",
      "source": [
        "# **Guardar resultados**\n",
        "Exemplo de como guardar texto num ficheiro."
      ],
      "metadata": {
        "id": "IYHfDqL8sGcu"
      }
    },
    {
      "cell_type": "code",
      "source": [
        "caminho_ficheiro_resultados = \"/content/resultados.txt\" # caminho onde será guardado o ficheiro\n",
        "\n",
        "resultados_f = open(caminho_ficheiro_resultados, \"a\") # gera o ficheiro caso não exista\n",
        "\n",
        "# adicionar resultado ao ficheiro dos resultados\n",
        "resultados_f.write(\"22XV69\" + '\\n') # \\n adiciona um parágrafo"
      ],
      "metadata": {
        "id": "7EAmgoN5sP79"
      },
      "execution_count": null,
      "outputs": []
    }
  ]
}
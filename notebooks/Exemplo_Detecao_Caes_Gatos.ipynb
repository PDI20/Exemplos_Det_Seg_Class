{
  "cells": [
    {
      "cell_type": "markdown",
      "metadata": {
        "id": "VeqUCkostTfJ"
      },
      "source": [
        "# Exemplo de deteção utilizando YOLOv5\n",
        "\n",
        "O dataset utilizado como exemplo é o [Oxford Pets](https://public.roboflow.com/object-detection/oxford-pets), constituído por 3680 imagens de cães e gatos. A versão utilizada consiste em apenas duas classes: cães e gatos, não tendo em consideração a sua espécie. As imagens têm dimensão variada.\n",
        "\n",
        "Treino: 2576 imagens\n",
        "\n",
        "Validação: 736 imagens\n",
        "\n",
        "Teste: 368 imagens"
      ]
    },
    {
      "cell_type": "markdown",
      "metadata": {
        "id": "dJt4i3gfsC9y"
      },
      "source": [
        "# Aceder ao Google Drive"
      ]
    },
    {
      "cell_type": "code",
      "execution_count": null,
      "metadata": {
        "id": "p_KI8jyesFeq"
      },
      "outputs": [],
      "source": [
        "from google.colab import drive\n",
        "\n",
        "drive.mount('/content/drive/') # nome da pasta onde serão colocados os ficheiros do Google Drive -> /nome_da_pasta/MyDrive/"
      ]
    },
    {
      "cell_type": "markdown",
      "metadata": {
        "id": "WUSLzC4Mi3Qk"
      },
      "source": [
        "# Instalar dependências do modelo YOLO"
      ]
    },
    {
      "cell_type": "code",
      "execution_count": null,
      "metadata": {
        "id": "nUdoM5Sv2tCL"
      },
      "outputs": [],
      "source": [
        "# alterar caminho\n",
        "%cd /content/drive/MyDrive/Exemplo_Codigo/yolov5/yolov5-master\n",
        "\n",
        "!pip install -qr requirements.txt"
      ]
    },
    {
      "cell_type": "markdown",
      "metadata": {
        "id": "LVh7ZPN3i9JF"
      },
      "source": [
        "# Unzip do dataset"
      ]
    },
    {
      "cell_type": "code",
      "execution_count": null,
      "metadata": {
        "id": "1hh7O_YG29uO"
      },
      "outputs": [],
      "source": [
        "# unzip do dataset\n",
        "\n",
        "# alterar caminho\n",
        "!unzip /content/drive/MyDrive/Exemplo_Codigo/datasets/oxford_caes_gatos.zip -d /content/data/\n",
        "\n",
        "# -d /content/data/ -> cria uma pasta com nome \"data\" e coloca o que se encontra no zip na mesma"
      ]
    },
    {
      "cell_type": "markdown",
      "metadata": {
        "id": "aEEIFfXujHA9"
      },
      "source": [
        "# Parâmetros"
      ]
    },
    {
      "cell_type": "code",
      "execution_count": null,
      "metadata": {
        "id": "PnRXVdUh3r_1"
      },
      "outputs": [],
      "source": [
        "img = 256 # dimensão do input - as imagens serão ajustadas tendo em conta o valor definido\n",
        "batch = 100 # dados de treino utilizados em cada iteração\n",
        "epochs = 20 # número de iterações\n",
        "data = \"/content/data/oxford_caes_gatos/data.yaml\" # -> ficheiro data.yaml -> ficheiro que contém o caminho para as diferentes diretorias\n",
        "cfg = \"/content/drive/MyDrive/Exemplo_Codigo/yolov5/yolov5-master/models/yolov5m.yaml\" # yolov5x, yolov5l, yolov5m, yolov5s -> s - small, m - medium, l -large, x - extra large -> quanto maior for o modelo mais lento será o treino\n",
        "weights = \"\" # pesos pré-treinados\n",
        "name = \"resultados\" # nome da diretoria onde serão guardados os resultados"
      ]
    },
    {
      "cell_type": "markdown",
      "metadata": {
        "id": "LHCNvofqjIjV"
      },
      "source": [
        "# Treino do modelo"
      ]
    },
    {
      "cell_type": "code",
      "execution_count": null,
      "metadata": {
        "id": "QkbI9J_y4me6"
      },
      "outputs": [],
      "source": [
        "# efetuar o treino\n",
        "!python train.py --img {img} --batch {batch} --epochs {epochs} --data {data} --cfg {cfg} --weights \"\" --name {name}  --cache\n",
        "\n",
        "# train.py -> script para efetuar o treino que se encontra na diretoria da YOLO"
      ]
    },
    {
      "cell_type": "markdown",
      "metadata": {
        "id": "fIhjw4QvjKyV"
      },
      "source": [
        "# Parâmetros da inferência"
      ]
    },
    {
      "cell_type": "code",
      "execution_count": null,
      "metadata": {
        "id": "6wzLMkqb4qE5"
      },
      "outputs": [],
      "source": [
        "# alterar caminhos do treino se necessário\n",
        "weights = \"\" # caminho dos weights do treino -> .../yolov5/yolo-master/runs/train/resultados/weights/best.pt\n",
        "image = \"/content/data/oxford_caes_gatos/test/images/Ragdoll_132_jpg.rf.1d841ea0a098133dc0008e6ab2379d49.jpg\" # caminho das imagens -> pode ser uma pasta -> utilizar dados de teste\n",
        "inf_res = \"resultados_inferencia\" # pasta onde ficam guardadas as imagens da inferência e os ficheiros txt\n",
        "img = 128 # tamanho da imagem de input\n",
        "conf = 0.65 # confiança mínima para que seja detetada uma classe"
      ]
    },
    {
      "cell_type": "markdown",
      "metadata": {
        "id": "K4i23LdgjdBB"
      },
      "source": [
        "# Inferência"
      ]
    },
    {
      "cell_type": "code",
      "execution_count": null,
      "metadata": {
        "id": "psx_9vsc54Nt"
      },
      "outputs": [],
      "source": [
        "# efetuar inferênciass\n",
        "!python detect.py --weights {weights} --img {img} --conf {conf} --source {image} --name {inf_res} --save-txt\n",
        "\n",
        "# --save-txt -> guarda as anotações efetuadas (ficheiros txt)\n",
        "\n",
        "# detect.py -> script para efetuar inferências que se encontra na diretoria da YOLO \n",
        "\n",
        "# os resultados da inferência são guardados no seguinte caminho\n",
        "# .../yolov5/yolo-master/runs/detect/resultados_inferencia/"
      ]
    },
    {
      "cell_type": "code",
      "execution_count": null,
      "metadata": {
        "id": "xLpRN3loFC7M"
      },
      "outputs": [],
      "source": []
    }
  ],
  "metadata": {
    "accelerator": "GPU",
    "colab": {
      "gpuType": "T4",
      "provenance": []
    },
    "kernelspec": {
      "display_name": "Python 3",
      "name": "python3"
    },
    "language_info": {
      "name": "python"
    }
  },
  "nbformat": 4,
  "nbformat_minor": 0
}

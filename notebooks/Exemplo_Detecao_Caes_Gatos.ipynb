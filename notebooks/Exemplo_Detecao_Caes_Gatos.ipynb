{
  "nbformat": 4,
  "nbformat_minor": 0,
  "metadata": {
    "colab": {
      "provenance": [],
      "gpuType": "T4"
    },
    "kernelspec": {
      "name": "python3",
      "display_name": "Python 3"
    },
    "language_info": {
      "name": "python"
    },
    "accelerator": "GPU"
  },
  "cells": [
    {
      "cell_type": "markdown",
      "source": [
        "# Exemplo de deteção utilizando YOLOv5\n",
        "\n",
        "O dataset utilizado como exemplo é o [Oxford Pets](https://public.roboflow.com/object-detection/oxford-pets), constituído por 3680 imagens de cães e gatos. A versão utilizada consiste em apenas duas classes: cães e gatos, não tendo em consideração a sua espécie.\n",
        "\n",
        "Treino: 2576 imagens\n",
        "\n",
        "Validação: 736 imagens\n",
        "\n",
        "Teste: 368 imagens"
      ],
      "metadata": {
        "id": "VeqUCkostTfJ"
      }
    },
    {
      "cell_type": "markdown",
      "source": [
        "# Aceder ao Google Drive"
      ],
      "metadata": {
        "id": "dJt4i3gfsC9y"
      }
    },
    {
      "cell_type": "code",
      "source": [
        "from google.colab import drive\n",
        "\n",
        "drive.mount('/content/drive/') # nome da pasta onde serão colocados os ficheiros do Google Drive -> /nome_da_pasta/MyDrive/"
      ],
      "metadata": {
        "id": "p_KI8jyesFeq"
      },
      "execution_count": null,
      "outputs": []
    },
    {
      "cell_type": "markdown",
      "source": [
        "# Instalar dependências do modelo YOLO"
      ],
      "metadata": {
        "id": "WUSLzC4Mi3Qk"
      }
    },
    {
      "cell_type": "code",
      "execution_count": null,
      "metadata": {
        "id": "nUdoM5Sv2tCL"
      },
      "outputs": [],
      "source": [
        "# alterar caminho\n",
        "%cd /content/drive/MyDrive/Exemplo_Codigo/yolov5/yolov5-master\n",
        "\n",
        "!pip install -qr requirements.txt"
      ]
    },
    {
      "cell_type": "markdown",
      "source": [
        "# Unzip do dataset"
      ],
      "metadata": {
        "id": "LVh7ZPN3i9JF"
      }
    },
    {
      "cell_type": "code",
      "source": [
        "# unzip do dataset\n",
        "\n",
        "# alterar caminho\n",
        "!unzip /content/drive/MyDrive/Exemplo_Codigo/datasets/oxford_caes_gatos.zip -d /content/data/\n"
      ],
      "metadata": {
        "id": "1hh7O_YG29uO"
      },
      "execution_count": null,
      "outputs": []
    },
    {
      "cell_type": "markdown",
      "source": [
        "# Parâmetros"
      ],
      "metadata": {
        "id": "aEEIFfXujHA9"
      }
    },
    {
      "cell_type": "code",
      "source": [
        "img = 128 # dimensão do input - as imagens serão ajustadas tendo em conta o valor definido\n",
        "batch = 256 # dados de treino utilizados em cada iteração\n",
        "epochs = 10 # número de iterações\n",
        "data = \"/content/data/oxford_caes_gatos/data.yaml\" # -> ficheiro data.yaml\n",
        "cfg = \"/content/drive/MyDrive/Exemplo_Codigo/yolov5/yolov5-master/models/yolov5m.yaml\" # yolov5x, yolov5l, yolov5m, yolov5s\n",
        "weights = \"\" # pesos pré-trinados\n",
        "name = \"resultados\" # nome da diretoria onde serão guardados os resultados"
      ],
      "metadata": {
        "id": "PnRXVdUh3r_1"
      },
      "execution_count": null,
      "outputs": []
    },
    {
      "cell_type": "markdown",
      "source": [
        "# Treino do modelo"
      ],
      "metadata": {
        "id": "LHCNvofqjIjV"
      }
    },
    {
      "cell_type": "code",
      "source": [
        "# efetuar o treino\n",
        "!python train.py --img {img} --batch {batch} --epochs {epochs} --data {data} --cfg {cfg} --weights \"\" --name {name}  --cache"
      ],
      "metadata": {
        "id": "QkbI9J_y4me6"
      },
      "execution_count": null,
      "outputs": []
    },
    {
      "cell_type": "markdown",
      "source": [
        "# Parâmetros inferência"
      ],
      "metadata": {
        "id": "fIhjw4QvjKyV"
      }
    },
    {
      "cell_type": "code",
      "source": [
        "# alterar caminhos do treino se necessário\n",
        "weights = \"/content/drive/MyDrive/caminho/weights/best.pt\" # weights do treino\n",
        "image = \"/content/drive/MyDrive/caminho/imagem_teste.png\" # caminho das imagens -> pode ser uma pasta -> utilizar dados de teste\n",
        "inf_res = \"resultados_inferencia\" # pasta onde ficam guardadas as imagens da inferência e os ficheiros txt\n",
        "img = 128 # tamanho da imagem de input\n",
        "conf = 0.65 # confiança mínima para que seja detetada uma classe"
      ],
      "metadata": {
        "id": "6wzLMkqb4qE5"
      },
      "execution_count": null,
      "outputs": []
    },
    {
      "cell_type": "markdown",
      "source": [
        "# Inferência"
      ],
      "metadata": {
        "id": "K4i23LdgjdBB"
      }
    },
    {
      "cell_type": "code",
      "source": [
        "# efetuar inferênciass\n",
        "!python detect.py --weights {weights} --img {img} --conf {conf} --source {image} --name {inf_res} --save-txt"
      ],
      "metadata": {
        "id": "psx_9vsc54Nt"
      },
      "execution_count": null,
      "outputs": []
    },
    {
      "cell_type": "code",
      "source": [],
      "metadata": {
        "id": "xLpRN3loFC7M"
      },
      "execution_count": null,
      "outputs": []
    }
  ]
}
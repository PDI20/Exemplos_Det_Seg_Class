{
  "cells": [
    {
      "cell_type": "markdown",
      "metadata": {
        "id": "VeqUCkostTfJ"
      },
      "source": [
        "# Exemplo de deteção utilizando [YOLOv5](https://github.com/ultralytics)\n",
        "\n",
        "O dataset utilizado como exemplo é o [Oxford Pets](https://public.roboflow.com/object-detection/oxford-pets), constituído por 3680 imagens de cães e gatos. A versão utilizada consiste em apenas duas classes: cães e gatos, não tendo em consideração a sua espécie. As imagens têm dimensão variada.\n",
        "\n",
        "Treino: 2576 imagens\n",
        "\n",
        "Validação: 736 imagens\n",
        "\n",
        "Teste: 368 imagens"
      ]
    },
    {
      "cell_type": "markdown",
      "metadata": {
        "id": "Lfw092Kmz6Qs"
      },
      "source": [
        "# **Depois de efetuado o download do dataset e do repositório do YOLOv5 no Google Drive**\n",
        "\n",
        "## **Dataset**\n",
        "\n",
        "1. Descomprimir o dataset;\n",
        "2. Abrir o ficheiro \"data.yaml\";\n",
        "3. Alterar os camimhos presentes no ficheiro para:\n",
        "\n",
        "  train: /content/data/train/images\n",
        "\n",
        "  val: /content/data/valid/images\n",
        "\n",
        "  test: /content/data/test/images\n",
        "\n",
        "4. Guardar as alterações;\n",
        "5. Comprimir o dataset;\n",
        "6. Guardar o dataset no Google Drive.\n",
        "\n",
        "\n",
        "## **Repositório do YOLOv5**\n",
        "1. Descomprimir os conteúdos do repositório;\n",
        "2. Guarda a nova diretoria no Google Drive."
      ]
    },
    {
      "cell_type": "markdown",
      "metadata": {
        "id": "dJt4i3gfsC9y"
      },
      "source": [
        "# **Aceder ao Google Drive**"
      ]
    },
    {
      "cell_type": "code",
      "execution_count": null,
      "metadata": {
        "id": "p_KI8jyesFeq"
      },
      "outputs": [],
      "source": [
        "from google.colab import drive\n",
        "\n",
        "drive.mount('/content/drive/') # nome da pasta onde serão colocados os ficheiros do Google Drive -> /nome_da_pasta/MyDrive/"
      ]
    },
    {
      "cell_type": "markdown",
      "metadata": {
        "id": "WUSLzC4Mi3Qk"
      },
      "source": [
        "# **Instalar dependências do modelo YOLO**\n",
        "\n",
        "## Obter o caminho da diretoria onde se encontra o repositório:\n",
        "\n",
        "1. No lado esquerdo, escolher o tab \"Ficheiros\";\n",
        "2. Abrir as pastas onde se encontram o repositório do YOLOv5;\n",
        "3. Selecionar a pasta do YOLOv5 com o botão direito do rato;\n",
        "4. Escolher a opção \"Copiar caminho\";\n",
        "5. Na célula abaixo, substituir apenas a palavra \"caminho\" pelo caminho copiado."
      ]
    },
    {
      "cell_type": "code",
      "execution_count": null,
      "metadata": {
        "id": "nUdoM5Sv2tCL"
      },
      "outputs": [],
      "source": [
        "# colocar o caminho do repositório YOLOv5\n",
        "%cd caminho\n",
        "\n",
        "!pip install -qr requirements.txt"
      ]
    },
    {
      "cell_type": "markdown",
      "metadata": {
        "id": "LVh7ZPN3i9JF"
      },
      "source": [
        "# **Unzip do dataset**\n",
        "\n",
        "## Obter o caminho da diretoria onde se encontra o dataset:\n",
        "\n",
        "1. No lado esquerdo, escolher o tab \"Ficheiros\";\n",
        "2. Abrir as pastas onde se encontra o dataset;\n",
        "3. Selecionar a pasta do dataset com o botão direito do rato;\n",
        "4. Escolher a opção \"Copiar caminho\";\n",
        "5. Na célula abaixo, substituir apenas a palavra \"caminho\" pelo caminho copiado."
      ]
    },
    {
      "cell_type": "code",
      "execution_count": null,
      "metadata": {
        "id": "1hh7O_YG29uO"
      },
      "outputs": [],
      "source": [
        "# unzip do dataset\n",
        "\n",
        "# alterar caminho\n",
        "!unzip caminho -d /content/data/\n",
        "\n",
        "# -d /content/data/ -> cria uma pasta com nome \"data\" e coloca o que se encontra no zip na mesma"
      ]
    },
    {
      "cell_type": "markdown",
      "metadata": {
        "id": "aEEIFfXujHA9"
      },
      "source": [
        "# **Parâmetros**\n",
        "\n",
        "Variáveis que afetam a performance do modelo.\n",
        "\n",
        "- img -> dimensão do input - as imagens serão ajustadas tendo em conta o valor definido. Quanto maior for a imagem mais detalhe é possível extrair, mas maior será o valor de memória de vídeo utilizado.\n",
        "- batch -> dados de treino utilizados em cada iteração. O valor escolhido deve ter em conta o tamanho do input. Por norma, quanto maior for o input menor será o valor de cada batch;\n",
        "- epochs -> número de iterações que o treino vai efetuar;\n",
        "- data -> diretoria onde se encotra o ficheiro \"data.yaml\", presente na pasta do dataset:\n",
        "  - Na pasta \"Data\", selecionar o ficheiro \"data.yaml\" com o botão direito;\n",
        "  - Escolher a opção \"Copiar caminho\";\n",
        "  - Na célula abaixo, substituir apenas as palavras \"caminho pesos\" pelo caminho copiado;\n",
        "- cfg -> modelo a ser utilizado para efetuar o treino:\n",
        "  - yolov5n -> n - nano;\n",
        "  - yolov5s -> s - small;\n",
        "  - yolov5m -> m - medium;\n",
        "  - yolov5l -> l - large;\n",
        "  - yolov5x -> x - extra large;\n",
        "\n",
        "  A utilização de modelos maiores requerem mais tempo por cada iteração, mas podem permitir a obtenção de melhores resultados.\n",
        "\n",
        "  Os modelos encontram-se no repositório do YOLOv5:\n",
        "  - Diretoria \"models\";\n",
        "  - Selecionar o modelo pretendido com o botão direito;\n",
        "  - Escolher a opção \"Copiar caminho\";\n",
        "  - Na célula abaixo, substituir apenas as palavras \"caminho modelo\" pelo caminho copiado;\n",
        "\n",
        "- weights -> pesos pré-treinados, de um dos modelo mencionados acima. O nome do modelo tem de ser colocado entre aspas. A sua utilização é opcional, mas no contexto do problema pode acelerar o treino.\n",
        "  - yolov5n.pt\n",
        "  - yolov5s.pt\n",
        "  - yolov5m.pt\n",
        "  - yolov5l.pt\n",
        "  - yolov5x.pt\n",
        "\n",
        "- name -> o nome da diretoria onde serão guardados os resultados. Sempre que for efetuado um treino será incrementado um valor ao nome definido. Se o nome definido for \"resultados\":\n",
        "  - 1º treino -> resultados\n",
        "  - 2º treino -> resultados2\n",
        "  - 3ª treino -> resutlados3\n",
        "\n",
        "  Os resultados de cada treino encontram-se na diretoria do repositório do YOLOv5:\n",
        "  - runs/train\n"
      ]
    },
    {
      "cell_type": "code",
      "execution_count": null,
      "metadata": {
        "id": "PnRXVdUh3r_1"
      },
      "outputs": [],
      "source": [
        "img = 256 # dimensão do input - as imagens serão ajustadas tendo em conta o valor definido\n",
        "batch = 100 # dados de treino utilizados em cada iteração\n",
        "epochs = 5 # número de iterações\n",
        "data = caminho # -> ficheiro data.yaml -> ficheiro que contém o caminho para as diferentes diretorias\n",
        "cfg = caminho modelo # yolov5x, yolov5l, yolov5m, yolov5s -> s - small, m - medium, l -large, x - extra large -> quanto maior for o modelo mais lento será o treino\n",
        "weights = \"\" # pesos pré-treinados -> opcional, pode acelerar o treino (melhores resultados mais depressa)\n",
        "name = \"resultados\" # nome da diretoria onde serão guardados os resultados"
      ]
    },
    {
      "cell_type": "markdown",
      "metadata": {
        "id": "LHCNvofqjIjV"
      },
      "source": [
        "# **Treino do modelo**"
      ]
    },
    {
      "cell_type": "code",
      "execution_count": null,
      "metadata": {
        "id": "QkbI9J_y4me6"
      },
      "outputs": [],
      "source": [
        "# efetuar o treino\n",
        "!python train.py --img {img} --batch {batch} --epochs {epochs} --data {data} --cfg {cfg} --weights {weights} --name {name}  --cache\n",
        "\n",
        "# train.py -> script para efetuar o treino que se encontra na diretoria da YOLO"
      ]
    },
    {
      "cell_type": "markdown",
      "metadata": {
        "id": "GOXJnurw-XAU"
      },
      "source": [
        "# **Métricas**\n",
        "Valores utilizados para a avaliação do treino.\n",
        "\n",
        "- Precision (P) -> A precisão de previsões positivas. Um valor alto de precisão indica que o modelo não gera previsões consideradas falsos positivos, o que siginifica que as previsões são confiáveis;\n",
        "- Recall (R) -> Também chamada de sensibilidade (sensitivity), mede a proporção de verdadeiros positivos em relação ao total de instâncias positivas. Um valor alto de Recall indica que o modelo consegue identificar corretamente a maior parte das instâncias positivas;\n",
        "- mAP50 -> A média da precisão de todas as classes tendo em conta um valor de IoU (Intersection over Union - o valor de interseção entre a bounding box anotada e a bounding box gerada pelo modelo) de 0.5;\n",
        "- mAP50-95 -> A média da precisão de todas as classes, no intervalo entre 0.5 e 0.95 de IoU com um incremento, tipicamente, de 0.05.\n",
        "\n",
        "Em todas as métricas, quanto mais próximo o valor for de 1, melhores os resultados.\n",
        "\n",
        "-------------------------------------------------------------------------------\n",
        "# **Atenção**\n",
        "\n",
        "## **Bons resultados no treino não significa que os resultados, quando utilizadas imagens nunca antes vistas pelo modelo, também sejam bons.**"
      ]
    },
    {
      "cell_type": "markdown",
      "metadata": {
        "id": "fIhjw4QvjKyV"
      },
      "source": [
        "# **Parâmetros da inferência**\n",
        "\n",
        "Variáveis que afetam a performance do modelo.\n",
        "\n",
        "- img -> dimensão do input - as imagens serão ajustadas tendo em conta o valor definido. Quanto maior for a imagem mais detalhe é possível extrair, mas maior será o valor de memória de vídeo utilizado;\n",
        "- conf -> valor mínimo de confiança de cada deteção. Se o valor for menor que o valor definido, apesar de existirem deteções efetuadas pelo modelo estas não serão colocadas na imagem;\n",
        "- data -> diretoria onde se encotra o ficheiro \"data.yaml\", presente na pasta do dataset:\n",
        "  - Na pasta \"Data\", selecionar o ficheiro \"data.yaml\" com o botão direito;\n",
        "  - Escolher a opção \"Copiar caminho\";\n",
        "  - Na célula abaixo, substituir apenas as palavras \"caminho pesos\" pelo caminho copiado;\n",
        "- weights -> pesos do treino efetuado. Os pesos encotram-se na diretoria do repositório do YOLOv5:\n",
        "  - runs/train/resultados/weights, sendo resultados o nome da diretoria do último treino efetuado;\n",
        "  - Selecionar com o botão direito do rato o ficheiro com o nome \"best.pt\";\n",
        "  - Na célula abaixo, substituir as palavras \"caminho pesos\" pelo caminho copiado.\n",
        "- images -> o caminho para as imagens que irão ser inferidas. Utilizar as imagens de teste do dataset:\n",
        "  - Na diretoria \"data\", selecionar com o botão direito a diretoria \"test/images\";\n",
        "  - Escolher a opção \"Copiar caminho\";\n",
        "  - Na célula abaixo, substituir a palavra \"caminho\" pelo caminho copiado;\n",
        "- inf_name -> o nome da diretoria onde serão guardados os resultados da inferência. Sempre que for efetuado uma inferência será incrementado um valor ao nome definido. Se o nome definido for \"resultados_inferencia\":\n",
        "\n",
        "  - 1º treino -> resultados_inferencia\n",
        "  - 2º treino -> resultados_inferencia2\n",
        "  - 3ª treino -> resultados_inferencia3\n",
        "\n",
        "  Os resultados de cada inferência encontram-se na diretoria do repositório do YOLOv5:\n",
        "  - runs/detect\n",
        "\n",
        "  Cada diretoria de resutados irá conter uma diretoria chamada \"labels\" e as imagens utilizadas, que podem ou não estar anotadas.\n",
        "  A diretoria \"labels\" irá conter ficheiro do tipo \".txt\" com as coordenadas das deteções.\n",
        "\n",
        "-------------------------------------------------------------------------------\n",
        "  ## **IMPORTANTE**\n",
        "  \n",
        "  ### **Cada imagem será guardada, tenha ou não deteções.**\n",
        "  \n",
        "  ### **O ficheiro, para cada imagem, apenas será gerado caso seja feita pelo menos uma deteção.**\n",
        "-------------------------------------------------------------------------------\n",
        "\n",
        "- bb_thickness -> espessura das linhas da bounding box;\n",
        "- hide_labels -> esconde as labels da deteção;\n",
        "\n",
        "Os dois últimos parâmetros são definidos para diminuir o espaço ocupado por cada bounding box."
      ]
    },
    {
      "cell_type": "code",
      "execution_count": null,
      "metadata": {
        "id": "6wzLMkqb4qE5"
      },
      "outputs": [],
      "source": [
        "# alterar caminhos do treino se necessário\n",
        "img = 256 # tamanho da imagem de input\n",
        "conf = 0.65 # confiança mínima para que seja detetada uma classe\n",
        "weights = caminho pesos # caminho dos weights do treino -> .../yolov5/yolo-master/runs/train/resultados/weights/best.pt\n",
        "images = caminho # caminho das imagens -> pode ser uma pasta -> utilizar dados de teste\n",
        "inf_name = \"resultados_inferencia\" # pasta onde ficam guardadas as imagens da inferência e os ficheiros txt\n",
        "bb_thickness = 1 # espessura das linhas da bounding box\n",
        "hide_labels = True # esconde a label da deteção"
      ]
    },
    {
      "cell_type": "markdown",
      "metadata": {
        "id": "K4i23LdgjdBB"
      },
      "source": [
        "# **Inferência**"
      ]
    },
    {
      "cell_type": "code",
      "execution_count": null,
      "metadata": {
        "id": "psx_9vsc54Nt"
      },
      "outputs": [],
      "source": [
        "# efetuar inferênciass\n",
        "!python detect.py --weights {weights} --img {img} --conf {conf} --source {image} --name {inf_name} --save-txt --line-thickness {bb_thickness} --hide-labels{hide_labels}\n",
        "\n",
        "# --save-txt -> guarda as anotações efetuadas (ficheiros txt)\n",
        "\n",
        "# detect.py -> script para efetuar inferências que se encontra na diretoria da YOLO\n",
        "\n",
        "# os resultados da inferência são guardados no seguinte caminho\n",
        "# .../yolov5/yolo-master/runs/detect/resultados_inferencia/"
      ]
    },
    {
      "cell_type": "code",
      "execution_count": null,
      "metadata": {
        "id": "xLpRN3loFC7M"
      },
      "outputs": [],
      "source": []
    }
  ],
  "metadata": {
    "accelerator": "GPU",
    "colab": {
      "gpuType": "T4",
      "provenance": []
    },
    "kernelspec": {
      "display_name": "Python 3",
      "name": "python3"
    },
    "language_info": {
      "name": "python"
    }
  },
  "nbformat": 4,
  "nbformat_minor": 0
}

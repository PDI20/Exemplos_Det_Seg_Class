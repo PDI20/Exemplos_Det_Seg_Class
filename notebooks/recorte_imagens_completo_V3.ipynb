{
  "nbformat": 4,
  "nbformat_minor": 0,
  "metadata": {
    "colab": {
      "provenance": []
    },
    "kernelspec": {
      "name": "python3",
      "display_name": "Python 3"
    },
    "language_info": {
      "name": "python"
    }
  },
  "cells": [
    {
      "cell_type": "markdown",
      "source": [
        "## **Aceder ao Google Drive**"
      ],
      "metadata": {
        "id": "nQ6VrlODGU2V"
      }
    },
    {
      "cell_type": "code",
      "source": [
        "from google.colab import drive\n",
        "\n",
        "drive.mount('/content/drive/') # nome da diretoria onde serão colocados os ficheiros do Google Drive -> /nome_da_pasta/MyDrive/\n",
        "\n",
        "# os conteúdos do Google Drive têm de estar numa diretoria vazia"
      ],
      "metadata": {
        "id": "3FueE6hVGXRN"
      },
      "execution_count": null,
      "outputs": []
    },
    {
      "cell_type": "markdown",
      "source": [
        "## **Bibliotecas**"
      ],
      "metadata": {
        "id": "h5kEvISsGYuM"
      }
    },
    {
      "cell_type": "code",
      "source": [
        "import cv2 # OpenCV, efetua o recorte das imagens\n",
        "import glob # obtém os caminhos todos os ficheiros presentes na diretoria dada, pastas inclusive"
      ],
      "metadata": {
        "id": "-iZQBoQ_GalL"
      },
      "execution_count": null,
      "outputs": []
    },
    {
      "cell_type": "markdown",
      "source": [
        "## **Caminhos das diretorias**"
      ],
      "metadata": {
        "id": "LzJwROSIGdUM"
      }
    },
    {
      "cell_type": "code",
      "source": [
        "diretoria_labels = \"/*.txt\"\n",
        "diretoria_imagens = \"/*.jpg\" # alterar a extenção com base na extensão das imagens"
      ],
      "metadata": {
        "id": "J_JwesNMGgS8"
      },
      "execution_count": null,
      "outputs": []
    },
    {
      "cell_type": "markdown",
      "source": [
        "## **Obter os caminhos das labels**"
      ],
      "metadata": {
        "id": "0Va55_5sGlm8"
      }
    },
    {
      "cell_type": "code",
      "source": [
        "caminhos_labels = []\n",
        "\n",
        "for item in sorted(glob.iglob(diretoria_labels)): # sorted ordena os nomes de forma ascendente\n",
        "\n",
        "  caminhos_labels.append(item)\n",
        "\n",
        "caminhos_labels"
      ],
      "metadata": {
        "id": "HTfX8kNhGoZF"
      },
      "execution_count": null,
      "outputs": []
    },
    {
      "cell_type": "markdown",
      "source": [
        "## **Obter os caminhos das imagens**"
      ],
      "metadata": {
        "id": "5Ap7uwnaGogE"
      }
    },
    {
      "cell_type": "code",
      "source": [
        "caminhos_imagens = []\n",
        "\n",
        "for item in sorted(glob.iglob(diretoria_imagens)): # sorted ordena os nomes de forma ascendente\n",
        "\n",
        "  caminhos_imagens.append(item)\n",
        "\n",
        "caminhos_imagens"
      ],
      "metadata": {
        "id": "4E0RgzYiGrgs"
      },
      "execution_count": null,
      "outputs": []
    },
    {
      "cell_type": "markdown",
      "source": [
        "## **Obter os nomes dos ficheiros das labels**"
      ],
      "metadata": {
        "id": "kIT93G2jGrkV"
      }
    },
    {
      "cell_type": "code",
      "source": [
        "nomes_labels = []\n",
        "\n",
        "for item in caminhos_labels:\n",
        "\n",
        "  split_item = item.split(\"/\")\n",
        "  nome_item = split_item[-1]\n",
        "  nome_item = nome_item.replace(\".txt\", \"\")\n",
        "\n",
        "  nomes_labels.append(nome_item)\n",
        "\n",
        "nomes_labels"
      ],
      "metadata": {
        "id": "iy_lGDJ9Gvnk"
      },
      "execution_count": null,
      "outputs": []
    },
    {
      "cell_type": "markdown",
      "source": [
        "## **Obter os nomes dos ficheiros das imagens**"
      ],
      "metadata": {
        "id": "3XgBXzCsGvrU"
      }
    },
    {
      "cell_type": "code",
      "source": [
        "nomes_imagens = []\n",
        "\n",
        "for item in caminhos_imagens:\n",
        "\n",
        "  split_item = item.split(\"/\")\n",
        "  nome_item = split_item[-1]\n",
        "  nome_item = nome_item.replace(\".jpg\", \"\") # alterar \".png\" para a extensão das imagens\n",
        "\n",
        "  nomes_imagens.append(nome_item)\n",
        "\n",
        "nomes_imagens"
      ],
      "metadata": {
        "id": "s0AK_XJXM4Wz"
      },
      "execution_count": null,
      "outputs": []
    },
    {
      "cell_type": "markdown",
      "source": [
        "## **Efetuar o recorte das imagens**"
      ],
      "metadata": {
        "id": "omZ-jyTjG3pd"
      }
    },
    {
      "cell_type": "code",
      "source": [
        "counter = 0 # atribuir um nome às imagens que serão guardadas\n",
        "\n",
        "counter_labels = 0 # abrir a label correta\n",
        "\n",
        "for i in range (0, len(caminhos_imagens)):\n",
        "\n",
        "  # verificar se a imagem tem uma label, se existir efetua o recorte da imagem com base nas coordenadas\n",
        "  if nomes_imagens[i] in nomes_labels:\n",
        "\n",
        "     # ler a imagem\n",
        "     imagem = cv2.imread(caminhos_imagens[i])\n",
        "\n",
        "     # largura e altura da imagem\n",
        "     largura = imagem.shape[1]\n",
        "     altura = imagem.shape[0]\n",
        "\n",
        "     # ler os ficheiros\n",
        "\n",
        "     # abrir o ficheiro\n",
        "     f = open(caminhos_labels[counter_labels])\n",
        "\n",
        "     # ler todas as linhas do ficheiro\n",
        "     linhas = f.readlines()\n",
        "\n",
        "     # processar todas as linhas do ficheiro\n",
        "     for linha in linhas:\n",
        "\n",
        "        # remover parágrafos\n",
        "        l = linha.replace(\"\\n\", \"\")\n",
        "\n",
        "        # obter cada valor\n",
        "        l_split = l.split(\" \")\n",
        "\n",
        "        # coordenadas da bounding box\n",
        "        coordenadas = [float(l_split[1]), float(l_split[2]), float(l_split[3]), float(l_split[4])]\n",
        "\n",
        "\n",
        "        # calcular as coordenadas\n",
        "\n",
        "        # desnormalizar as coordenadas\n",
        "        des_x = coordenadas[0] * largura\n",
        "        des_y = coordenadas[1] * altura\n",
        "        des_width = coordenadas[2] * largura\n",
        "        des_height = coordenadas[3] * altura\n",
        "\n",
        "        # espessura da bounding box\n",
        "        # ajustar com base na espessura utilizada nas inferências\n",
        "        bb_thickeness = 4 # para remover a bounding box\n",
        "\n",
        "        # cálculo do ponto superior esquerdo (xmin, ymax) e do ponto inferior direito (xmax, ymin)\n",
        "        xmin = des_x - des_width + des_width / 2 + bb_thickeness\n",
        "        xmax = des_x + des_width - des_width / 2 - bb_thickeness\n",
        "        ymin = des_y - des_height + des_height / 2 + bb_thickeness\n",
        "        ymax = des_y + des_height - des_height / 2 - bb_thickeness\n",
        "\n",
        "\n",
        "        # recorte da imagem\n",
        "        imagem_crop = imagem[int(ymin) : int(ymax), int(xmin) : int(xmax)]\n",
        "\n",
        "        # redimensionar a imagem\n",
        "        imagem_crop = cv2.resize(imagem_crop, (300, 75))\n",
        "\n",
        "        # guardar imagem\n",
        "        cv2.imwrite(\"/content/\" + str(counter) + \".png\", imagem_crop)\n",
        "\n",
        "\n",
        "        counter = counter + 1\n",
        "\n",
        "     # fechar o ficheiro\n",
        "     f.close()\n",
        "\n",
        "     counter_labels = counter_labels + 1\n"
      ],
      "metadata": {
        "id": "BYqakzIbG7M8"
      },
      "execution_count": null,
      "outputs": []
    }
  ]
}
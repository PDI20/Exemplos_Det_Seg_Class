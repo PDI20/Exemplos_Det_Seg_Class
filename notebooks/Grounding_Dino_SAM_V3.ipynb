{
  "nbformat": 4,
  "nbformat_minor": 0,
  "metadata": {
    "colab": {
      "provenance": [],
      "gpuType": "T4"
    },
    "kernelspec": {
      "name": "python3",
      "display_name": "Python 3"
    },
    "language_info": {
      "name": "python"
    },
    "accelerator": "GPU"
  },
  "cells": [
    {
      "cell_type": "markdown",
      "source": [
        "# Exemplo de Segmentação utilizando Grounding Dino e Segment Anything Model\n",
        "\n",
        "[Grounding Dino](https://github.com/IDEA-Research/GroundingDINO) -> efetua deteções de forma automática com base em prompts (palavras chave/frases)\n",
        "\n",
        "[Segment Anything Model](https://github.com/facebookresearch/segment-anything) -> efetua segmentações de forma automática, neste caso, com base em bounding boxes\n",
        "\n",
        "Efetuar o download de ambos os repositórios e colocar no Google Drive."
      ],
      "metadata": {
        "id": "V8dFvAbMLzxG"
      }
    },
    {
      "cell_type": "markdown",
      "source": [
        "## **Aceder ao Google Drive**"
      ],
      "metadata": {
        "id": "_9ewkD_925JR"
      }
    },
    {
      "cell_type": "code",
      "source": [
        "from google.colab import drive\n",
        "\n",
        "drive.mount('/content/drive/') # nome da diretoria onde serão colocados os ficheiros do Google Drive -> /nome_da_pasta/MyDrive/\n",
        "\n",
        "# os conteúdos do Google Drive têm de estar numa diretoria vazia"
      ],
      "metadata": {
        "id": "MAogulKm25eR"
      },
      "execution_count": null,
      "outputs": []
    },
    {
      "cell_type": "markdown",
      "source": [
        "## Instalar Grounding Dino"
      ],
      "metadata": {
        "id": "Vap0LeGtM5I-"
      }
    },
    {
      "cell_type": "code",
      "source": [
        "# clonar o repositório -> isto gera uma diretoria chamada \"GroundingDino\"\n",
        "!git clone https://github.com/IDEA-Research/GroundingDINO.git\n",
        "\n",
        "# entrar na diretoria\n",
        "%cd /content/GroundingDINO/\n",
        "\n",
        "# instalar dependências\n",
        "!pip install -e ."
      ],
      "metadata": {
        "id": "oMwP3deaN5oj"
      },
      "execution_count": null,
      "outputs": []
    },
    {
      "cell_type": "markdown",
      "source": [
        "## Instalar Segment Anything Model (SAM)"
      ],
      "metadata": {
        "id": "YgdBCMd3O7TH"
      }
    },
    {
      "cell_type": "code",
      "source": [
        "# voltar à diretoria inicial\n",
        "%cd /content/\n",
        "\n",
        "# colar o repositório -> isto gera uma diretoria chamada \"segment-anything\"\n",
        "!git clone https://github.com/facebookresearch/segment-anything.git\n",
        "\n",
        "# entrar na diretoria\n",
        "%cd /content/segment-anything/\n",
        "\n",
        "# instalar dependências\n",
        "!pip install -e ."
      ],
      "metadata": {
        "id": "Q316WO3vOv7P"
      },
      "execution_count": null,
      "outputs": []
    },
    {
      "cell_type": "markdown",
      "source": [
        "## Efetuar download dos pesos do Grounding Dino\n"
      ],
      "metadata": {
        "id": "1r8tOX3yPgAu"
      }
    },
    {
      "cell_type": "code",
      "source": [
        "%cd /content/\n",
        "\n",
        "# criar uma nova diretoria\n",
        "!mkdir grounding_dino_weights\n",
        "\n",
        "# entrar na nova diretoria\n",
        "%cd grounding_dino_weights\n",
        "\n",
        "# efetuar o download dos pesos\n",
        "!wget -q https://github.com/IDEA-Research/GroundingDINO/releases/download/v0.1.0-alpha/groundingdino_swint_ogc.pth\n",
        "\n",
        "# voltar à diretoria inicial\n",
        "\n",
        "%cd /content/"
      ],
      "metadata": {
        "id": "B0ZlRToePLd-"
      },
      "execution_count": null,
      "outputs": []
    },
    {
      "cell_type": "markdown",
      "source": [
        "# **Importante**\n",
        "\n",
        "Depois de instalar os dois repositórios, fazer o seguinte:\n",
        "\n",
        "- Selecionar \"Tempo de execução\", que fica abaixo do título do notebook;\n",
        "- Selecionar \"Reiniciar sessão\";\n",
        "- Avançar para as próximas células."
      ],
      "metadata": {
        "id": "2yQF_Pu_kfEI"
      }
    },
    {
      "cell_type": "markdown",
      "source": [
        "## Bibliotecas do Grounding Dino"
      ],
      "metadata": {
        "id": "i5MKYV7xQEj-"
      }
    },
    {
      "cell_type": "code",
      "source": [
        "from groundingdino.util.inference import load_model, load_image, predict, annotate\n",
        "from groundingdino.util import box_ops\n",
        "from PIL import Image # ler imagens\n",
        "\n",
        "from google.colab.patches import cv2_imshow # visualização de imagens\n",
        "\n",
        "import locale # evitar erros\n",
        "locale.getpreferredencoding = lambda: \"UTF-8\""
      ],
      "metadata": {
        "id": "ZfleHBolP-_f"
      },
      "execution_count": null,
      "outputs": []
    },
    {
      "cell_type": "markdown",
      "source": [
        "## Utilização do modelo Grounding Dino"
      ],
      "metadata": {
        "id": "Lh23BGkrQPKu"
      }
    },
    {
      "cell_type": "markdown",
      "source": [
        "## **Carregar o modelo Grounding Dino**"
      ],
      "metadata": {
        "id": "eDe8YRmJj0YP"
      }
    },
    {
      "cell_type": "code",
      "source": [],
      "metadata": {
        "id": "PjR3yKILj8xf"
      },
      "execution_count": null,
      "outputs": []
    },
    {
      "cell_type": "markdown",
      "source": [
        "### **Parâmetros do Grounding Dino**\n",
        "\n",
        "O text prompt pode ser constituído por palavras ou frases."
      ],
      "metadata": {
        "id": "cS9LTDR3j_v3"
      }
    },
    {
      "cell_type": "code",
      "source": [
        "text_prompt = \"\" # prompt que vai ser utilizado para efetuar as deteções -> \".\" indica a procura dos diferentes objetos de forma individual\n",
        "box_threshold = 0 # número mínimo de similaridade entre as bounding boxes\n",
        "text_threshold = 0 # número mínimo de similaridade entre as bounding boxes"
      ],
      "metadata": {
        "id": "lgHzReCQmtHY"
      },
      "execution_count": null,
      "outputs": []
    },
    {
      "cell_type": "markdown",
      "source": [
        "## **Aplicar o Grounding Dino sobre uma imagem**"
      ],
      "metadata": {
        "id": "w_oRAtoe7wfk"
      }
    },
    {
      "cell_type": "code",
      "source": [],
      "metadata": {
        "id": "xCILutwpQQme"
      },
      "execution_count": null,
      "outputs": []
    },
    {
      "cell_type": "markdown",
      "source": [
        "## Resultados da deteção"
      ],
      "metadata": {
        "id": "1veqooeqQ_zu"
      }
    },
    {
      "cell_type": "markdown",
      "source": [
        "### Imagem original"
      ],
      "metadata": {
        "id": "vYqNoOqUU_PX"
      }
    },
    {
      "cell_type": "code",
      "source": [
        "Image.fromarray(imagem_source)"
      ],
      "metadata": {
        "id": "7cXG1wtyVBLY"
      },
      "execution_count": null,
      "outputs": []
    },
    {
      "cell_type": "markdown",
      "source": [
        "### Imagem com deteções"
      ],
      "metadata": {
        "id": "buWmk3cWVWOn"
      }
    },
    {
      "cell_type": "code",
      "source": [
        "annotated_frame = annotate(image_source = imagem_source, boxes = boxes, logits = logits, phrases = phrases)\n",
        "\n",
        "Image.fromarray(annotated_frame)"
      ],
      "metadata": {
        "id": "TJaMDgpvRUSG"
      },
      "execution_count": null,
      "outputs": []
    },
    {
      "cell_type": "markdown",
      "source": [
        "## Utilização do SAM"
      ],
      "metadata": {
        "id": "ijzHtmFPVoJX"
      }
    },
    {
      "cell_type": "markdown",
      "source": [
        "## Bibliotecas do SAM"
      ],
      "metadata": {
        "id": "Z262jWgqV47v"
      }
    },
    {
      "cell_type": "code",
      "source": [
        "# Geral\n",
        "import argparse\n",
        "import os\n",
        "import copy\n",
        "import supervision as sv\n",
        "from PIL import Image, ImageDraw, ImageFont\n",
        "import torch\n",
        "from imutils import contours # para ordenar contornos\n",
        "import cv2\n",
        "\n",
        "# segment anything\n",
        "from segment_anything import build_sam, SamPredictor\n",
        "import numpy as np"
      ],
      "metadata": {
        "id": "vaRWtc1VV8XP"
      },
      "execution_count": null,
      "outputs": []
    },
    {
      "cell_type": "markdown",
      "source": [
        "## **Download do checkpoint do  SAM**"
      ],
      "metadata": {
        "id": "6_DKAloKd53J"
      }
    },
    {
      "cell_type": "code",
      "source": [
        "# carregar checkpoint do modelo SAM\n",
        "! wget https://dl.fbaipublicfiles.com/segment_anything/sam_vit_h_4b8939.pth"
      ],
      "metadata": {
        "id": "xmcig0CxXLku"
      },
      "execution_count": null,
      "outputs": []
    },
    {
      "cell_type": "markdown",
      "source": [
        "## Inicializar o modelo SAM"
      ],
      "metadata": {
        "id": "AET-ltqXd9ZL"
      }
    },
    {
      "cell_type": "code",
      "source": [],
      "metadata": {
        "id": "j5kcxETlU3ZX"
      },
      "execution_count": null,
      "outputs": []
    },
    {
      "cell_type": "markdown",
      "source": [
        "## **Aplicar o modelo SAM sobre a imagem**"
      ],
      "metadata": {
        "id": "KZG9GY1meAvQ"
      }
    },
    {
      "cell_type": "code",
      "source": [],
      "metadata": {
        "id": "4_m0vI0fWYsI"
      },
      "execution_count": null,
      "outputs": []
    },
    {
      "cell_type": "markdown",
      "source": [
        "## **Normalizar as bounding boxes obtidaas pelo Grounding Dino**"
      ],
      "metadata": {
        "id": "r0IrHlBH9Agu"
      }
    },
    {
      "cell_type": "code",
      "source": [
        "# normalizar as bounding boxes obtidas pelo Grounding Dino\n",
        "H, W, _ = imagem_source.shape\n",
        "boxes_xyxy = box_ops.box_cxcywh_to_xyxy(boxes) * torch.Tensor([W, H, W, H])"
      ],
      "metadata": {
        "id": "yhE32awUbOAo"
      },
      "execution_count": null,
      "outputs": []
    },
    {
      "cell_type": "markdown",
      "source": [
        "## **Calcular as máscaras com base nas bounding boxes do Grounding Dino**"
      ],
      "metadata": {
        "id": "HJyf7R2J9OrM"
      }
    },
    {
      "cell_type": "code",
      "source": [
        "# obter máscaras com base nas bounding boxes\n",
        "transformed_boxes = sam_predictor.transform.apply_boxes_torch(boxes_xyxy, imagem_source.shape[:2]).to(\"cuda\")\n",
        "\n",
        "masks, _, _ = sam_predictor.predict_torch(colocar parâmetros)"
      ],
      "metadata": {
        "id": "CWCH0l3tbddo"
      },
      "execution_count": null,
      "outputs": []
    },
    {
      "cell_type": "markdown",
      "source": [
        "## **Função que transforma os arrays com a informação das máscaras em imagens**"
      ],
      "metadata": {
        "id": "xcvebi1E_N80"
      }
    },
    {
      "cell_type": "code",
      "source": [
        "# Obter apenas as máscaras (preto e branco)\n",
        "def mask_image(mask):\n",
        "\n",
        "    color = np.array([255/255, 255/255, 255/255, 1]) # cor da máscara -> branca\n",
        "\n",
        "    tensor = torch.Tensor.cpu(mask) # carregar a informação da GPU para a memória\n",
        "\n",
        "    h, w = mask.shape[-2:] # obter as dimensões da máscara\n",
        "\n",
        "    mask_image = tensor.reshape(h, w, 1) * color.reshape(1, 1, -1) # criar uma máscara com base no tensor\n",
        "\n",
        "    mask = Image.fromarray((mask_image.cpu().numpy() * 255).astype(np.uint8)).convert(\"L\") # converter o array para uma imagem\n",
        "\n",
        "    return mask"
      ],
      "metadata": {
        "id": "LxBVtahZbu7W"
      },
      "execution_count": null,
      "outputs": []
    },
    {
      "cell_type": "markdown",
      "source": [
        "## **Criar uma máscara com todas as máscaras**\n"
      ],
      "metadata": {
        "id": "PU0cwIF6zd39"
      }
    },
    {
      "cell_type": "code",
      "source": [],
      "metadata": {
        "id": "NiAR46TfznMz"
      },
      "execution_count": null,
      "outputs": []
    },
    {
      "cell_type": "markdown",
      "source": [
        "### **Obter os contornos presentes na máscara**\n",
        "\n",
        "Utilizar biblioteca cv2."
      ],
      "metadata": {
        "id": "VQBXQZ0P3EnD"
      }
    },
    {
      "cell_type": "code",
      "source": [],
      "metadata": {
        "id": "adxkmhV9zzUz"
      },
      "execution_count": null,
      "outputs": []
    },
    {
      "cell_type": "markdown",
      "source": [
        "## **Ordenar os contornos da esquerda para a direita**\n",
        "\n",
        "Utilizar biblioteca imutils."
      ],
      "metadata": {
        "id": "63V-OaFZ3MQ3"
      }
    },
    {
      "cell_type": "code",
      "source": [],
      "metadata": {
        "id": "fjRq2dk33RIr"
      },
      "execution_count": null,
      "outputs": []
    },
    {
      "cell_type": "markdown",
      "source": [
        "## **Extrair contornos**\n",
        "\n",
        "Utilizar biblioteca cv2."
      ],
      "metadata": {
        "id": "fQPAOmo23Wt8"
      }
    },
    {
      "cell_type": "code",
      "source": [
        "ep = 3 # padding\n",
        "\n",
        "crop_num = 0\n",
        "\n",
        "\n",
        "resized_crop = cv2.resize(crop, (20, 20)) # redimensionar a imagem recortada\n",
        "\n",
        "# gravar imagem\n",
        "cv2.imwrite(os.path.join(caminho, f'crop{crop_num}.png'), resized_crop)"
      ],
      "metadata": {
        "id": "TE2IYN1q3aRr"
      },
      "execution_count": null,
      "outputs": []
    },
    {
      "cell_type": "markdown",
      "source": [
        "# **Classificação dos caracteres**"
      ],
      "metadata": {
        "id": "3QoHkwbJ30Gm"
      }
    },
    {
      "cell_type": "markdown",
      "source": [
        "## **Bibliotecas**"
      ],
      "metadata": {
        "id": "_CSeaLh432g7"
      }
    },
    {
      "cell_type": "code",
      "source": [
        "from tensorflow import keras\n",
        "from tensorflow.keras import layers\n",
        "import tensorflow as tf"
      ],
      "metadata": {
        "id": "yiSOdi3S30pL"
      },
      "execution_count": null,
      "outputs": []
    },
    {
      "cell_type": "markdown",
      "source": [
        "## **Carregar o modelo de classificação**"
      ],
      "metadata": {
        "id": "z_wNuDb136Cr"
      }
    },
    {
      "cell_type": "code",
      "source": [
        "input_shape = (20, 20, 3) # input que o modelo aceita\n",
        "num_classes = 34 # número de classes\n",
        "classes = ['0', '1', '2', '3', '4', '5', '6', '7', '8', '9', 'A', 'B', 'C', 'D', 'E',\n",
        "              'F', 'G', 'H', 'J', 'K', 'L', 'M', 'N', 'P', 'Q', 'R', 'S', 'T',\n",
        "              'U', 'V', 'W', 'X', 'Y', 'Z'] # nomes das classes -> não existe classe para a letra \"O\" e a letra \"I\"\n",
        "\n",
        "modelo = keras.Sequential(\n",
        "    [\n",
        "        layers.Dense(32, input_shape =input_shape),\n",
        "        layers.Dense(64, activation = 'relu'),\n",
        "        layers.Flatten(),\n",
        "        layers.Dense(num_classes, activation = 'softmax'),\n",
        "    ]\n",
        ")"
      ],
      "metadata": {
        "id": "DPKcNTDW38ls"
      },
      "execution_count": null,
      "outputs": []
    },
    {
      "cell_type": "code",
      "source": [
        "modelo.summary()"
      ],
      "metadata": {
        "id": "HNV63MYd3967"
      },
      "execution_count": null,
      "outputs": []
    },
    {
      "cell_type": "markdown",
      "source": [
        "## **Carregar pesos pré-treinados**"
      ],
      "metadata": {
        "id": "QUrecq0Q3_tc"
      }
    },
    {
      "cell_type": "code",
      "source": [
        "caminho_pesos = \"/content/best_weights.h5\"\n",
        "modelo.load_weights(caminho_pesos)"
      ],
      "metadata": {
        "id": "4FEig5YS4BAK"
      },
      "execution_count": null,
      "outputs": []
    },
    {
      "cell_type": "markdown",
      "source": [
        "## **Classificar os caracteres**"
      ],
      "metadata": {
        "id": "VySUJT9s4DGc"
      }
    },
    {
      "cell_type": "code",
      "source": [
        "imagem = cv2.imread('/content/crop0.png')\n",
        "\n",
        "cv2_imshow(imagem)\n",
        "\n",
        "imagem = np.expand_dims(imagem, axis = 0) # para garantir que as dimensões são as corretas\n",
        "\n",
        "previsao = modelo.predict(imagem) # classificação por parte do modelo\n",
        "\n",
        "classe = classes[np.argmax(previsao)] # classe prevista\n",
        "\n",
        "print(\"Classe previsa:\", classe)"
      ],
      "metadata": {
        "id": "LeK4eK7D4Erk"
      },
      "execution_count": null,
      "outputs": []
    },
    {
      "cell_type": "markdown",
      "source": [
        "# **Guardar resultados**\n",
        "Exemplo de como guardar texto num ficheiro."
      ],
      "metadata": {
        "id": "M9EwHUxw4Gpt"
      }
    },
    {
      "cell_type": "code",
      "source": [
        "caminho_ficheiro_resultados = \"/content/resultados.txt\" # caminho onde será guardado o ficheiro\n",
        "\n",
        "resultados_f = open(caminho_ficheiro_resultados, \"a\") # gera o ficheiro caso não exista\n",
        "\n",
        "# adicionar resultado ao ficheiro dos resultados\n",
        "resultados_f.write(\"22XV69\" + '\\n') # \\n adiciona um parágrafo"
      ],
      "metadata": {
        "id": "MX3rsTWj4GN8"
      },
      "execution_count": null,
      "outputs": []
    }
  ]
}
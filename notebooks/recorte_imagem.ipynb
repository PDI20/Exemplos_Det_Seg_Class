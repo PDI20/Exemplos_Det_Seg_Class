{
  "nbformat": 4,
  "nbformat_minor": 0,
  "metadata": {
    "colab": {
      "provenance": []
    },
    "kernelspec": {
      "name": "python3",
      "display_name": "Python 3"
    },
    "language_info": {
      "name": "python"
    }
  },
  "cells": [
    {
      "cell_type": "markdown",
      "source": [
        "# **Aceder ao Google Drive**"
      ],
      "metadata": {
        "id": "ouIWIjBCSJar"
      }
    },
    {
      "cell_type": "code",
      "source": [
        "from google.colab import drive\n",
        "\n",
        "drive.mount('/content/drive/') # nome da pasta onde serão colocados os ficheiros do Google Drive -> /nome_da_pasta/MyDrive/"
      ],
      "metadata": {
        "id": "IIn7iGWpSOWS"
      },
      "execution_count": null,
      "outputs": []
    },
    {
      "cell_type": "markdown",
      "source": [
        "# **Bibliotecas**\n",
        "\n",
        "## **[OpenCV](https://opencv.org/)**\n",
        "\n",
        "Para manipulação de imagens (ler, guardar, redimensionar, recortar).\n",
        "\n",
        "## **[Glob](https://docs.python.org/3/library/glob.html)**\n",
        "\n",
        "Para obter o caminho de ficheiros presentes em diretorias."
      ],
      "metadata": {
        "id": "miHDX6ZJSTDa"
      }
    },
    {
      "cell_type": "code",
      "source": [
        "import cv2 # OpenCV\n",
        "import glob # Glob\n",
        "\n",
        "# visualização de imagens\n",
        "from google.colab.patches import cv2_imshow\n",
        ""
      ],
      "metadata": {
        "id": "idgT0CCTS8f9"
      },
      "execution_count": null,
      "outputs": []
    },
    {
      "cell_type": "markdown",
      "source": [
        "# **Ler imagens**\n",
        "\n"
      ],
      "metadata": {
        "id": "XjfKASpzQjtA"
      }
    },
    {
      "cell_type": "code",
      "source": [
        "imagem = \"/content/car1_png.rf.01391d95a60880dcaf39d0be0a4044e5.jpg\" # o caminho da imagem\n",
        "\n",
        "imagem = cv2.imread(imagem) # ler a imagem\n",
        "\n",
        "cv2_imshow(imagem) # visualizar a imagem"
      ],
      "metadata": {
        "id": "AsRcF-j2TSyj"
      },
      "execution_count": null,
      "outputs": []
    },
    {
      "cell_type": "markdown",
      "source": [
        "# **Ler ficheiros de texto**"
      ],
      "metadata": {
        "id": "CDrmUP_EQx0f"
      }
    },
    {
      "cell_type": "code",
      "source": [
        "ficheiro = \"/content/car1_png.rf.01391d95a60880dcaf39d0be0a4044e5.txt\" # o caminho do ficheiro\n",
        "\n",
        "f = open(ficheiro) # abrir o ficheiro\n",
        "\n",
        "linhas = f.readlines() # ler todas as linhas presentes no ficheiro\n",
        "\n",
        "coordenadas_normalizadas = []\n",
        "\n",
        "# visualizar todas as linhas do ficheiro\n",
        "for l in linhas:\n",
        "\n",
        "  l = l.replace(\"\\n\", \"\") # remover o parágrafo presente no final de cada linha\n",
        "\n",
        "  l = l.split(\" \") # obter cada valor de forma individualizada\n",
        "\n",
        "\n",
        "  # guardar coordenadas num array\n",
        "  # os valores são convertidos do tipo string para float\n",
        "  coordenadas_normalizadas.append(float(l[1]))\n",
        "  coordenadas_normalizadas.append(float(l[2]))\n",
        "  coordenadas_normalizadas.append(float(l[3]))\n",
        "  coordenadas_normalizadas.append(float(l[4]))\n",
        "\n",
        "print(coordenadas_normalizadas) # resultado -> array com 4 valores"
      ],
      "metadata": {
        "id": "otlexG28Tv2H"
      },
      "execution_count": null,
      "outputs": []
    },
    {
      "cell_type": "markdown",
      "source": [
        "# **Calcular coordenadas para efetuar o recorte da imagem**\n",
        "\n",
        "É necessário calcular os pontos:\n",
        "\n",
        "- superior esquerdo;\n",
        "- inferior direito."
      ],
      "metadata": {
        "id": "-S5c2QoEQ3ow"
      }
    },
    {
      "cell_type": "code",
      "source": [
        "# imagem.shape -> array com as dimensões da imagem\n",
        "# shape[0] -> largura\n",
        "# shape[1] -> altura\n",
        "\n",
        "print(\"Shape: \" + str(imagem.shape))\n",
        "\n",
        "largura = imagem.shape[1] # largura da imagem\n",
        "altura = imagem.shape[0] # altura da imagem\n",
        "\n",
        "# reverter a normalização das coordenadas\n",
        "\n",
        "des_x = 0\n",
        "des_y = 0\n",
        "des_width = 0\n",
        "des_height = 0\n",
        "\n",
        "# calcular os pontos\n",
        "\n",
        "bb_espessura = 4 # para remover a bounding box\n",
        "\n",
        "xmin = 0\n",
        "xmax = 0\n",
        "ymin = 0\n",
        "ymax = 0\n",
        "\n",
        "print(\"xmin: \" + str(xmin))\n",
        "print(\"xmax: \" + str(xmax))\n",
        "print(\"ymin: \" + str(ymin))\n",
        "print(\"ymax: \" + str(ymax))"
      ],
      "metadata": {
        "id": "VQlOMYxsUwFM"
      },
      "execution_count": null,
      "outputs": []
    },
    {
      "cell_type": "markdown",
      "source": [
        "# **Efetuar o recorte da imagem**"
      ],
      "metadata": {
        "id": "xcn7sba1Q_hi"
      }
    },
    {
      "cell_type": "code",
      "source": [
        "# recorte da imagem -> os valores têm de ser inteiros\n",
        "imagem_crop = imagem[int(ymin) : int(ymax), int(xmin) : int(xmax)]\n",
        "\n",
        "cv2_imshow(imagem_crop)"
      ],
      "metadata": {
        "id": "bLrfLH4-bCsy"
      },
      "execution_count": null,
      "outputs": []
    },
    {
      "cell_type": "markdown",
      "source": [
        "# **Redimensionar imagem**\n"
      ],
      "metadata": {
        "id": "z38_-9rCjyyI"
      }
    },
    {
      "cell_type": "code",
      "source": [
        "imagem_crop = cv2.resize(imagem_crop, (300, 75))\n",
        "\n",
        "cv2_imshow(imagem_crop)"
      ],
      "metadata": {
        "id": "DkXl-AUVj261"
      },
      "execution_count": null,
      "outputs": []
    },
    {
      "cell_type": "markdown",
      "source": [
        "# **Obter o caminho de ficheiros presentes em diretorias**"
      ],
      "metadata": {
        "id": "avTSBp2tSVnY"
      }
    },
    {
      "cell_type": "code",
      "source": [
        "diretoria = \"/*\" # caminho da diretoria de inferências -> colocar /* no final do caminho\n",
        "\n",
        "# obter todos os caminhos presentes numa diretoria\n",
        "for item in glob.glob(diretoria):\n",
        "\n",
        "  print(item)"
      ],
      "metadata": {
        "id": "bP_nKkIb7G-U"
      },
      "execution_count": null,
      "outputs": []
    },
    {
      "cell_type": "code",
      "source": [],
      "metadata": {
        "id": "cxSwzo-588z7"
      },
      "execution_count": null,
      "outputs": []
    }
  ]
}